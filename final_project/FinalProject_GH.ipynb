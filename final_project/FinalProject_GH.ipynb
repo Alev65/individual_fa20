{
 "cells": [
  {
   "cell_type": "markdown",
   "metadata": {},
   "source": [
    "# COGS 108 - Final Project "
   ]
  },
  {
   "cell_type": "markdown",
   "metadata": {},
   "source": [
    "# Overview"
   ]
  },
  {
   "cell_type": "markdown",
   "metadata": {},
   "source": [
    "*Fill in your overview here*"
   ]
  },
  {
   "cell_type": "markdown",
   "metadata": {},
   "source": [
    "# Name & GitHub ID\n",
    "\n",
    "- Name: Alejandro Valdez\n",
    "- GitHub Username: Alev65"
   ]
  },
  {
   "cell_type": "markdown",
   "metadata": {},
   "source": [
    "# Research Question"
   ]
  },
  {
   "cell_type": "markdown",
   "metadata": {},
   "source": [
    "How much are the popular parks in San Diego inaccessible to underserved communities? Are the underserved communities being marginalized by being surrounded by parks with terrible reputation?"
   ]
  },
  {
   "cell_type": "markdown",
   "metadata": {},
   "source": [
    "## Background and Prior Work"
   ]
  },
  {
   "cell_type": "markdown",
   "metadata": {},
   "source": [
    "   In lower-income neighborhoods, parks are expected to be run down and homeless plagued, this is basic knowledge. What is not basic knowledge is “why is this?” San Diego’s Park and Recreation states in their website that their mission is \"To provide healthy, sustainable, and enriching environments for all.\" [1].What have they, and the city, done to stick true to their own statement?\n",
    "\n",
    "The San Diego Foundation has launched a park report that concluded there is a significant disparity in accessible “green space” and that historically this is a trend seen in lower income, ethnically, and racially diverse areas [2]. These areas are the southern sides of San Diego. For example, Barrio Logan, San Diego’s oldest Mexican-American neighborhood, which now has the National Historic Landmark, the Chicano Park, which required a 12 day protest to stop a police station being built in its place instead [3]. Then we have the Tijuana River Valley Regional Park’s planned campground to specifically give lower-income households the opportunity to go camping has been halted because of the infamous Tijuana River that has “plague [this area with] raw sewage, toxic chemicals and plastic pollution” a concerning health hazard that was going to be closely overlooked [4]. This area which has a high concentration of Mexican-Americans is virtually disconnected from the rest of San Diego by an almost 20 minute car ride making majority of the parks outside this region inconvenient or inaccessible. There are multiple reports, beyond these two, of how parks in these areas are polluted, under maintained, and in general just underfunded. \n",
    "    \n",
    "Lower-income neighborhoods have problems beyond the Parks and Rec. that need to be solve. This just further shows that equity needs to be taken further into consideration when it comes to funding parks and recreation programs in these areas as their current fund could not suffice.  The city of San Diego has been considering a change in their current system that mandates park money provided by the developer to be spend near the developer’s project to instead go into a city-wide account that could adjust funding for lower-income areas.  This plan has been currently rejected and is in the reworks [5]. \n",
    "\n",
    "\n",
    "References\n",
    "- 1)\tGeneral Information | Parks & Recreation | City of San Diego Official Website\n",
    "- 2)\tTSDF-Parks-for-Everyone-2-Report.pdf (sdfoundation.org)\n",
    "- 3)\tChicano Park's History Could Fill a Museum – and Activists Think it Should — Voice of San Diego\n",
    "- 4)\tSurfrider says county's Tijuana River Valley Regional Park 'too dirty' for planned campground - The San Diego Union-Tribune\n",
    "- 5)\tSan Diego OKs 'complete communities' housing incentives, but rejects parks plan -The San Diego Union-Tribune\n"
   ]
  },
  {
   "cell_type": "markdown",
   "metadata": {},
   "source": [
    "# Hypothesis\n"
   ]
  },
  {
   "cell_type": "markdown",
   "metadata": {},
   "source": [
    "I hypothesis that there is still a standing inequity in funding and support of parks and recreational programs for underserved communities. This should be addressed in the next five years as not only are the popular well-kept parks in San Diego out of the way for these communities, but these communities who could truly benefit the most from neighborhood improvement and programs availability are borderline being marginalized. "
   ]
  },
  {
   "cell_type": "markdown",
   "metadata": {},
   "source": [
    "# Dataset(s)"
   ]
  },
  {
   "cell_type": "markdown",
   "metadata": {},
   "source": [
    "*Fill in your dataset information here*\n",
    "\n",
    "(Copy this information for each dataset)\n",
    "- Dataset Name:\n",
    "- Link to the dataset:\n",
    "- Number of observations:\n",
    "\n",
    "1-2 sentences describing each dataset. \n",
    "\n",
    "If you plan to use multiple datasets, add 1-2 sentences about how you plan to combine these datasets."
   ]
  },
  {
   "cell_type": "markdown",
   "metadata": {},
   "source": [
    "# Setup"
   ]
  },
  {
   "cell_type": "code",
   "execution_count": 4,
   "metadata": {},
   "outputs": [],
   "source": [
    "\n",
    "import numpy as np\n",
    "import pandas as pd\n",
    "import matplotlib.pyplot as plt\n",
    "import seaborn as sns\n",
    "import patsy\n",
    "import requests\n",
    "from bs4 import BeautifulSoup\n",
    "from scipy.stats import chisquare"
   ]
  },
  {
   "cell_type": "markdown",
   "metadata": {},
   "source": [
    "# Data Cleaning"
   ]
  },
  {
   "cell_type": "markdown",
   "metadata": {},
   "source": [
    "Describe your data cleaning steps here."
   ]
  },
  {
   "cell_type": "code",
   "execution_count": 5,
   "metadata": {},
   "outputs": [],
   "source": [
    "## YOUR CODE HERE\n",
    "## FEEL FREE TO ADD MULTIPLE CELLS PER SECTION"
   ]
  },
  {
   "cell_type": "markdown",
   "metadata": {},
   "source": [
    "# Data Analysis & Results"
   ]
  },
  {
   "cell_type": "markdown",
   "metadata": {},
   "source": [
    "Include cells that describe the steps in your data analysis."
   ]
  },
  {
   "cell_type": "code",
   "execution_count": 6,
   "metadata": {},
   "outputs": [],
   "source": [
    "## YOUR CODE HERE\n",
    "## FEEL FREE TO ADD MULTIPLE CELLS PER SECTION"
   ]
  },
  {
   "cell_type": "markdown",
   "metadata": {},
   "source": [
    "# Ethics & Privacy"
   ]
  },
  {
   "cell_type": "markdown",
   "metadata": {},
   "source": [
    "*Fill in your ethics & privacy discussion here*"
   ]
  },
  {
   "cell_type": "markdown",
   "metadata": {},
   "source": [
    "# Conclusion & Discussion"
   ]
  },
  {
   "cell_type": "markdown",
   "metadata": {},
   "source": [
    "*Fill in your discussion information here*"
   ]
  }
 ],
 "metadata": {
  "kernelspec": {
   "display_name": "Python 3",
   "language": "python",
   "name": "python3"
  },
  "language_info": {
   "codemirror_mode": {
    "name": "ipython",
    "version": 3
   },
   "file_extension": ".py",
   "mimetype": "text/x-python",
   "name": "python",
   "nbconvert_exporter": "python",
   "pygments_lexer": "ipython3",
   "version": "3.8.3-final"
  }
 },
 "nbformat": 4,
 "nbformat_minor": 2
}