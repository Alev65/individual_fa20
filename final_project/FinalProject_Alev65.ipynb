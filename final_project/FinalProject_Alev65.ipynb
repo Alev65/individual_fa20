{
 "cells": [
  {
   "cell_type": "markdown",
   "metadata": {},
   "source": [
    "# COGS 108 - Final Project "
   ]
  },
  {
   "cell_type": "markdown",
   "metadata": {},
   "source": [
    "# Overview"
   ]
  },
  {
   "cell_type": "markdown",
   "metadata": {},
   "source": [
    "*Fill in your overview here*"
   ]
  },
  {
   "cell_type": "markdown",
   "metadata": {},
   "source": [
    "# Name & GitHub ID\n",
    "\n",
    "- Name: Alejandro Valdez\n",
    "- GitHub Username: Alev65"
   ]
  },
  {
   "cell_type": "markdown",
   "metadata": {},
   "source": [
    "# Research Question"
   ]
  },
  {
   "cell_type": "markdown",
   "metadata": {},
   "source": [
    "How much are the popular parks in San Diego inaccessible to underserved communities? Are the underserved communities being marginalized by being surrounded by parks with terrible reputation?"
   ]
  },
  {
   "cell_type": "markdown",
   "metadata": {},
   "source": [
    "## Background and Prior Work"
   ]
  },
  {
   "cell_type": "markdown",
   "metadata": {},
   "source": [
    "   In lower-income neighborhoods, parks are expected to be run down and homeless plagued, this is basic knowledge. What is not basic knowledge is “why is this?” San Diego’s Park and Recreation states in their website that their mission is \"To provide healthy, sustainable, and enriching environments for all.\" [1].What have they, and the city, done to stick true to their own statement?\n",
    "\n",
    "The San Diego Foundation has launched a park report that concluded there is a significant disparity in accessible “green space” and that historically this is a trend seen in lower income, ethnically, and racially diverse areas [2]. These areas are the southern sides of San Diego. For example, Barrio Logan, San Diego’s oldest Mexican-American neighborhood, which now has the National Historic Landmark, the Chicano Park, which required a 12 day protest to stop a police station being built in its place instead [3]. Then we have the Tijuana River Valley Regional Park’s planned campground to specifically give lower-income households the opportunity to go camping has been halted because of the infamous Tijuana River that has “plague [this area with] raw sewage, toxic chemicals and plastic pollution” a concerning health hazard that was going to be closely overlooked [4]. This area which has a high concentration of Mexican-Americans is virtually disconnected from the rest of San Diego by an almost 20 minute car ride making majority of the parks outside this region inconvenient or inaccessible. There are multiple reports, beyond these two, of how parks in these areas are polluted, under maintained, and in general just underfunded. \n",
    "    \n",
    "Lower-income neighborhoods have problems beyond the Parks and Rec. that need to be solve. This just further shows that equity needs to be taken further into consideration when it comes to funding parks and recreation programs in these areas as their current fund could not suffice.  The city of San Diego has been considering a change in their current system that mandates park money provided by the developer to be spend near the developer’s project to instead go into a city-wide account that could adjust funding for lower-income areas.  This plan has been currently rejected and is in the reworks [5]. \n",
    "\n",
    "\n",
    "References\n",
    "- 1)\tGeneral Information | Parks & Recreation | City of San Diego Official Website\n",
    "- 2)\tTSDF-Parks-for-Everyone-2-Report.pdf (sdfoundation.org)\n",
    "- 3)\tChicano Park's History Could Fill a Museum – and Activists Think it Should — Voice of San Diego\n",
    "- 4)\tSurfrider says county's Tijuana River Valley Regional Park 'too dirty' for planned campground - The San Diego Union-Tribune\n",
    "- 5)\tSan Diego OKs 'complete communities' housing incentives, but rejects parks plan -The San Diego Union-Tribune\n"
   ]
  },
  {
   "cell_type": "markdown",
   "metadata": {},
   "source": [
    "# Hypothesis\n"
   ]
  },
  {
   "cell_type": "markdown",
   "metadata": {},
   "source": [
    "I hypothesis that there is still a standing inequity in funding and support of parks and recreational programs for underserved communities. This should be addressed in the next five years as not only are the popular well-kept parks in San Diego out of the way for these communities, but these communities who could truly benefit the most from neighborhood improvement and programs availability are borderline being marginalized. "
   ]
  },
  {
   "cell_type": "markdown",
   "metadata": {},
   "source": [
    "# Dataset(s)"
   ]
  },
  {
   "cell_type": "markdown",
   "metadata": {},
   "source": [
    "*Fill in your dataset information here*\n",
    "\n",
    "(Copy this information for each dataset)\n",
    "- Dataset Name:\n",
    "- Link to the dataset:\n",
    "- Number of observations:\n",
    "\n",
    "1-2 sentences describing each dataset. \n",
    "\n",
    "If you plan to use multiple datasets, add 1-2 sentences about how you plan to combine these datasets."
   ]
  },
  {
   "cell_type": "markdown",
   "metadata": {},
   "source": [
    "# Setup"
   ]
  },
  {
   "cell_type": "code",
   "execution_count": 13,
   "metadata": {},
   "outputs": [
    {
     "output_type": "error",
     "ename": "ModuleNotFoundError",
     "evalue": "No module named 'geopandas'",
     "traceback": [
      "\u001b[1;31m---------------------------------------------------------------------------\u001b[0m",
      "\u001b[1;31mModuleNotFoundError\u001b[0m                       Traceback (most recent call last)",
      "\u001b[1;32m<ipython-input-13-e61f3253db08>\u001b[0m in \u001b[0;36m<module>\u001b[1;34m\u001b[0m\n\u001b[0;32m      2\u001b[0m \u001b[1;32mimport\u001b[0m \u001b[0mnumpy\u001b[0m \u001b[1;32mas\u001b[0m \u001b[0mnp\u001b[0m\u001b[1;33m\u001b[0m\u001b[1;33m\u001b[0m\u001b[0m\n\u001b[0;32m      3\u001b[0m \u001b[1;32mimport\u001b[0m \u001b[0mpandas\u001b[0m \u001b[1;32mas\u001b[0m \u001b[0mpd\u001b[0m\u001b[1;33m\u001b[0m\u001b[1;33m\u001b[0m\u001b[0m\n\u001b[1;32m----> 4\u001b[1;33m \u001b[1;32mimport\u001b[0m \u001b[0mgeopandas\u001b[0m \u001b[1;32mas\u001b[0m \u001b[0mgpd\u001b[0m\u001b[1;33m\u001b[0m\u001b[1;33m\u001b[0m\u001b[0m\n\u001b[0m\u001b[0;32m      5\u001b[0m \u001b[1;31m#import matplotlib.pyplot as plt\u001b[0m\u001b[1;33m\u001b[0m\u001b[1;33m\u001b[0m\u001b[1;33m\u001b[0m\u001b[0m\n\u001b[0;32m      6\u001b[0m \u001b[1;31m#import seaborn as sns\u001b[0m\u001b[1;33m\u001b[0m\u001b[1;33m\u001b[0m\u001b[1;33m\u001b[0m\u001b[0m\n",
      "\u001b[1;31mModuleNotFoundError\u001b[0m: No module named 'geopandas'"
     ]
    }
   ],
   "source": [
    "#imports\n",
    "import numpy as np\n",
    "import pandas as pd\n",
    "import geopandas as gpd\n",
    "#import matplotlib.pyplot as plt\n",
    "#import seaborn as sns\n",
    "#import patsy\n",
    "#import requests\n",
    "#from bs4 import BeautifulSoup\n",
    "#from scipy.stats import chisquare"
   ]
  },
  {
   "cell_type": "code",
   "execution_count": 10,
   "metadata": {},
   "outputs": [
    {
     "output_type": "execute_result",
     "data": {
      "text/plain": [
       "   ind_id                                     ind_definition  reportyear  \\\n",
       "0     469  Percent of Population within 1/2 Mile of Park,...        2010   \n",
       "1     469  Percent of Population within 1/2 Mile of Park,...        2010   \n",
       "2     469  Percent of Population within 1/2 Mile of Park,...        2010   \n",
       "3     469  Percent of Population within 1/2 Mile of Park,...        2010   \n",
       "4     469  Percent of Population within 1/2 Mile of Park,...        2010   \n",
       "\n",
       "   race_eth_code race_eth_name geotype  geotypevalue     geoname  county_fips  \\\n",
       "0              1          AIAN      CD     607390030  Alpine CCD       6073.0   \n",
       "1              1          AIAN      CD     607390030  Alpine CCD       6073.0   \n",
       "2              1          AIAN      CD     607390030  Alpine CCD       6073.0   \n",
       "3              1          AIAN      CD     607390030  Alpine CCD       6073.0   \n",
       "4              1          AIAN      CD     607390030  Alpine CCD       6073.0   \n",
       "\n",
       "  county_name  ...  numerator denominator   estimate    ll_95ci    ul_95ci  \\\n",
       "0   San Diego  ...          0         185   0.000000   0.000000   0.000000   \n",
       "1   San Diego  ...          0         185   0.000000   0.000000   0.000000   \n",
       "2   San Diego  ...         41         185  22.162162  16.177059  28.147266   \n",
       "3   San Diego  ...          0         185   0.000000   0.000000   0.000000   \n",
       "4   San Diego  ...         65         185  35.135135  28.255811  42.014459   \n",
       "\n",
       "         se        rse  ca_decile     ca_rr   version  \n",
       "0  0.000000        NaN        NaN  0.000000  7/3/2017  \n",
       "1  0.000000        NaN        NaN  0.000000  7/3/2017  \n",
       "2  3.053624  13.778548        NaN  2.914420  7/3/2017  \n",
       "3  0.000000        NaN        NaN  0.000000  7/3/2017  \n",
       "4  3.509859   9.989600        NaN  3.324591  7/3/2017  \n",
       "\n",
       "[5 rows x 26 columns]"
      ],
      "text/html": "<div>\n<style scoped>\n    .dataframe tbody tr th:only-of-type {\n        vertical-align: middle;\n    }\n\n    .dataframe tbody tr th {\n        vertical-align: top;\n    }\n\n    .dataframe thead th {\n        text-align: right;\n    }\n</style>\n<table border=\"1\" class=\"dataframe\">\n  <thead>\n    <tr style=\"text-align: right;\">\n      <th></th>\n      <th>ind_id</th>\n      <th>ind_definition</th>\n      <th>reportyear</th>\n      <th>race_eth_code</th>\n      <th>race_eth_name</th>\n      <th>geotype</th>\n      <th>geotypevalue</th>\n      <th>geoname</th>\n      <th>county_fips</th>\n      <th>county_name</th>\n      <th>...</th>\n      <th>numerator</th>\n      <th>denominator</th>\n      <th>estimate</th>\n      <th>ll_95ci</th>\n      <th>ul_95ci</th>\n      <th>se</th>\n      <th>rse</th>\n      <th>ca_decile</th>\n      <th>ca_rr</th>\n      <th>version</th>\n    </tr>\n  </thead>\n  <tbody>\n    <tr>\n      <th>0</th>\n      <td>469</td>\n      <td>Percent of Population within 1/2 Mile of Park,...</td>\n      <td>2010</td>\n      <td>1</td>\n      <td>AIAN</td>\n      <td>CD</td>\n      <td>607390030</td>\n      <td>Alpine CCD</td>\n      <td>6073.0</td>\n      <td>San Diego</td>\n      <td>...</td>\n      <td>0</td>\n      <td>185</td>\n      <td>0.000000</td>\n      <td>0.000000</td>\n      <td>0.000000</td>\n      <td>0.000000</td>\n      <td>NaN</td>\n      <td>NaN</td>\n      <td>0.000000</td>\n      <td>7/3/2017</td>\n    </tr>\n    <tr>\n      <th>1</th>\n      <td>469</td>\n      <td>Percent of Population within 1/2 Mile of Park,...</td>\n      <td>2010</td>\n      <td>1</td>\n      <td>AIAN</td>\n      <td>CD</td>\n      <td>607390030</td>\n      <td>Alpine CCD</td>\n      <td>6073.0</td>\n      <td>San Diego</td>\n      <td>...</td>\n      <td>0</td>\n      <td>185</td>\n      <td>0.000000</td>\n      <td>0.000000</td>\n      <td>0.000000</td>\n      <td>0.000000</td>\n      <td>NaN</td>\n      <td>NaN</td>\n      <td>0.000000</td>\n      <td>7/3/2017</td>\n    </tr>\n    <tr>\n      <th>2</th>\n      <td>469</td>\n      <td>Percent of Population within 1/2 Mile of Park,...</td>\n      <td>2010</td>\n      <td>1</td>\n      <td>AIAN</td>\n      <td>CD</td>\n      <td>607390030</td>\n      <td>Alpine CCD</td>\n      <td>6073.0</td>\n      <td>San Diego</td>\n      <td>...</td>\n      <td>41</td>\n      <td>185</td>\n      <td>22.162162</td>\n      <td>16.177059</td>\n      <td>28.147266</td>\n      <td>3.053624</td>\n      <td>13.778548</td>\n      <td>NaN</td>\n      <td>2.914420</td>\n      <td>7/3/2017</td>\n    </tr>\n    <tr>\n      <th>3</th>\n      <td>469</td>\n      <td>Percent of Population within 1/2 Mile of Park,...</td>\n      <td>2010</td>\n      <td>1</td>\n      <td>AIAN</td>\n      <td>CD</td>\n      <td>607390030</td>\n      <td>Alpine CCD</td>\n      <td>6073.0</td>\n      <td>San Diego</td>\n      <td>...</td>\n      <td>0</td>\n      <td>185</td>\n      <td>0.000000</td>\n      <td>0.000000</td>\n      <td>0.000000</td>\n      <td>0.000000</td>\n      <td>NaN</td>\n      <td>NaN</td>\n      <td>0.000000</td>\n      <td>7/3/2017</td>\n    </tr>\n    <tr>\n      <th>4</th>\n      <td>469</td>\n      <td>Percent of Population within 1/2 Mile of Park,...</td>\n      <td>2010</td>\n      <td>1</td>\n      <td>AIAN</td>\n      <td>CD</td>\n      <td>607390030</td>\n      <td>Alpine CCD</td>\n      <td>6073.0</td>\n      <td>San Diego</td>\n      <td>...</td>\n      <td>65</td>\n      <td>185</td>\n      <td>35.135135</td>\n      <td>28.255811</td>\n      <td>42.014459</td>\n      <td>3.509859</td>\n      <td>9.989600</td>\n      <td>NaN</td>\n      <td>3.324591</td>\n      <td>7/3/2017</td>\n    </tr>\n  </tbody>\n</table>\n<p>5 rows × 26 columns</p>\n</div>"
     },
     "metadata": {},
     "execution_count": 10
    }
   ],
   "source": [
    "#read data\n",
    "\n",
    "#this is the same \"hci_accesstoparks...\" file but turned into a csv and with only San Diego's data\n",
    "accesstoparks = pd.read_csv('../data/parks_datasd.geojson')\n",
    "accesstoparks.head()"
   ]
  },
  {
   "cell_type": "markdown",
   "metadata": {},
   "source": [
    "# Data Cleaning"
   ]
  },
  {
   "cell_type": "markdown",
   "metadata": {},
   "source": [
    "Describe your data cleaning steps here."
   ]
  },
  {
   "cell_type": "code",
   "execution_count": 7,
   "metadata": {},
   "outputs": [],
   "source": [
    "## YOUR CODE HERE\n",
    "## FEEL FREE TO ADD MULTIPLE CELLS PER SECTION"
   ]
  },
  {
   "cell_type": "markdown",
   "metadata": {},
   "source": [
    "# Data Analysis & Results"
   ]
  },
  {
   "cell_type": "markdown",
   "metadata": {},
   "source": [
    "Include cells that describe the steps in your data analysis."
   ]
  },
  {
   "cell_type": "code",
   "execution_count": 8,
   "metadata": {},
   "outputs": [],
   "source": [
    "## YOUR CODE HERE\n",
    "## FEEL FREE TO ADD MULTIPLE CELLS PER SECTION"
   ]
  },
  {
   "cell_type": "markdown",
   "metadata": {},
   "source": [
    "# Ethics & Privacy"
   ]
  },
  {
   "cell_type": "markdown",
   "metadata": {},
   "source": [
    "*Fill in your ethics & privacy discussion here*"
   ]
  },
  {
   "cell_type": "markdown",
   "metadata": {},
   "source": [
    "# Conclusion & Discussion"
   ]
  },
  {
   "cell_type": "markdown",
   "metadata": {},
   "source": [
    "*Fill in your discussion information here*"
   ]
  }
 ],
 "metadata": {
  "kernelspec": {
   "name": "python3",
   "display_name": "Python 3.8.3 64-bit (conda)",
   "metadata": {
    "interpreter": {
     "hash": "b21c0e3f53e8389935e36200a9e00ea894c5542247625165789da444c6f334cf"
    }
   }
  },
  "language_info": {
   "codemirror_mode": {
    "name": "ipython",
    "version": 3
   },
   "file_extension": ".py",
   "mimetype": "text/x-python",
   "name": "python",
   "nbconvert_exporter": "python",
   "pygments_lexer": "ipython3",
   "version": "3.8.3-final"
  }
 },
 "nbformat": 4,
 "nbformat_minor": 2
}