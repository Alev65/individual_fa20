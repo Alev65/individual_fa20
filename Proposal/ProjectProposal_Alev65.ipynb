{
 "cells": [
  {
   "cell_type": "markdown",
   "metadata": {},
   "source": [
    "# COGS 108 - Project Proposal"
   ]
  },
  {
   "cell_type": "markdown",
   "metadata": {},
   "source": [
    "# Names & GitHub ID\n",
    "\n",
    "- Name: Alejandro Valdez    \n",
    "- GitHub Username: Alev65"
   ]
  },
  {
   "cell_type": "markdown",
   "metadata": {},
   "source": [
    "# Research Question"
   ]
  },
  {
   "cell_type": "markdown",
   "metadata": {},
   "source": [
    "How is the pollution from the Tijuana River affecting San Diego's park system?"
   ]
  },
  {
   "cell_type": "markdown",
   "metadata": {},
   "source": [
    "## Background and Prior Work"
   ]
  },
  {
   "cell_type": "markdown",
   "metadata": {},
   "source": [
    "Being a San Diego native since I was born we have always have issues with the sewage waste coming from Tijuana, Mexico now current politicians are finally campaigning on addressing the issue. There have been different affected locations such as Imperial Beach which is well known for the time of the years where the water turns brown from toxic waste, and the Tijuana River Valley Regional Park, and overall the safety for the community which also happens to be low-income families. Future planning for a campground in the regional park are being debated as the pollution can be too harmful for campers. This issue has reach national news as even President Trump has mentioned it during the presidential debates.\n",
    "\n",
    "I would also like to mention the annexation of district 8 of San Diego, which is connected to the Tijuana River. This district is literally deattach from the rest of San Diego and it is known for its low-income community comapared to its rest. There could be links to dispropotional funding to this separate district as one of the answer as to this issue has not been fix. There was a previous attempt to de-annexed from the City of San Diego but the attempt fell short from shortage of funding from the locals.\n",
    "\n",
    "Some previous work from previous students although not related have address a question about climate change affecting tsunamis which should serve in similar aspect to my enviroment-centric question. \n",
    "\n",
    "References (include links):\n",
    "- 1) https://www.washingtonpost.com/outlook/2020/06/02/san-diego-tijuanas-shared-sewage-problem-has-long-history/\n",
    "- 2) read://https_www.sandiegouniontribune.com/?url=https%3A%2F%2Fwww.sandiegouniontribune.com%2Fnews%2Fenvironment%2Fsd-me-sewage-park-20180703-story.html\n",
    "- 3) https://github.com/COGS108/FinalProjects-Sp19/blob/master/FinalProject_group022.ipynb"
   ]
  },
  {
   "cell_type": "markdown",
   "metadata": {},
   "source": [
    "# Hypothesis\n"
   ]
  },
  {
   "cell_type": "markdown",
   "metadata": {},
   "source": [
    "My hypothesis is that the Tijuana River sewage crisis is negatively affecting a low-income community which can lead to a financial burden to the city of San Diego's Park and Rec as well as health issues for the community. This is a financial problem since the issue is not contained to only San Diego but with another country, Mexico, in specific their sewage system. The given solutions is to create a barricade to stop sewage floodings into the U.S. which is expensive."
   ]
  },
  {
   "cell_type": "markdown",
   "metadata": {},
   "source": [
    "# Data"
   ]
  },
  {
   "cell_type": "markdown",
   "metadata": {},
   "source": [
    "*Explain what the ideal dataset you would want to answer this question. (This should include: What variables? How many observations? Who/what/how would these data be collected? How would these data be stored/organized?)*\n",
    "\n",
    "The ideal dataset I would like to be able to answer my question is the pollution data from the previous years such as floodings, pollution levels. This data should had already been recorded as pollution management by San Diego, but if this has not then the reports of how often the beaches have been closed due to high toxic levels. I would also want the data of projects being developed near the region especially important if they have been stopped by toxicity in the region. If possible too the progress of other projects in the other districts to compare them to this district. This could lead to a change of question if there is a discrimination of funding for the lower income in the area as the richer areas get more parks and benefits."
   ]
  },
  {
   "cell_type": "markdown",
   "metadata": {},
   "source": [
    "# Ethics & Privacy"
   ]
  },
  {
   "cell_type": "markdown",
   "metadata": {},
   "source": [
    "As current politicians trying to win elections there has been mentions of the Tijuana River sewage crisis. San Diego politicians are putting this issue as their campaign plan to finally combat the issue, and president Trump has mentioned in national television as an issue with Mexico. This brings the issue of politicians using the provided data to be able to distort it as an attack towards Mexico as president Trump has previously done to bash Mexico multiple times. \n",
    "\n",
    "Anyways, the data that I am currently seeking to use should had already been publicly available. As I further develop my question and reasearch there is the issue of formulating data that can speak bad of Mexico or speak bad of regions San Diego. In hopes that I do not speak down to either I will be wise about my wording and minimize my data to just cover about the Parks and Rec of San Diego. "
   ]
  }
 ],
 "metadata": {
  "kernelspec": {
   "display_name": "Python 3",
   "language": "python",
   "name": "python3"
  },
  "language_info": {
   "codemirror_mode": {
    "name": "ipython",
    "version": 3
   },
   "file_extension": ".py",
   "mimetype": "text/x-python",
   "name": "python",
   "nbconvert_exporter": "python",
   "pygments_lexer": "ipython3",
   "version": "3.7.9"
  }
 },
 "nbformat": 4,
 "nbformat_minor": 2
}